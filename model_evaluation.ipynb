{
 "cells": [
  {
   "cell_type": "markdown",
   "id": "2649f2cb-75e3-4796-831e-16996edb73ed",
   "metadata": {},
   "source": [
    "# Question 2.\n",
    "Given the following confusion matrix, evaluate (by hand) the model's performacnce."
   ]
  },
  {
   "cell_type": "markdown",
   "id": "11006e04-6b7d-461f-8ae8-668c9f15cdde",
   "metadata": {
    "tags": []
   },
   "source": [
    "|               | pred dog   | pred cat   |\n",
    "|:------------  |-----------:|-----------:|\n",
    "| actual dog    |         46 |         7  |\n",
    "| actual cat    |         13 |         34 |\n"
   ]
  },
  {
   "cell_type": "code",
   "execution_count": 14,
   "id": "0f60e298-219b-4d22-aa32-afcf044a3e82",
   "metadata": {
    "tags": []
   },
   "outputs": [
    {
     "data": {
      "text/html": [
       "<div>\n",
       "<style scoped>\n",
       "    .dataframe tbody tr th:only-of-type {\n",
       "        vertical-align: middle;\n",
       "    }\n",
       "\n",
       "    .dataframe tbody tr th {\n",
       "        vertical-align: top;\n",
       "    }\n",
       "\n",
       "    .dataframe thead th {\n",
       "        text-align: right;\n",
       "    }\n",
       "</style>\n",
       "<table border=\"1\" class=\"dataframe\">\n",
       "  <thead>\n",
       "    <tr style=\"text-align: right;\">\n",
       "      <th></th>\n",
       "      <th>pred_dog</th>\n",
       "      <th>pred_cat</th>\n",
       "    </tr>\n",
       "  </thead>\n",
       "  <tbody>\n",
       "    <tr>\n",
       "      <th>actual dog</th>\n",
       "      <td>46</td>\n",
       "      <td>13</td>\n",
       "    </tr>\n",
       "    <tr>\n",
       "      <th>actual cat</th>\n",
       "      <td>7</td>\n",
       "      <td>34</td>\n",
       "    </tr>\n",
       "  </tbody>\n",
       "</table>\n",
       "</div>"
      ],
      "text/plain": [
       "           pred_dog pred_cat\n",
       "actual dog       46       13\n",
       "actual cat        7       34"
      ]
     },
     "execution_count": 14,
     "metadata": {},
     "output_type": "execute_result"
    }
   ],
   "source": [
    "import pandas as pd\n",
    "from sklearn.metrics import confusion_matrix\n",
    "\n",
    "data = ({\n",
    "    'pred_dog' : ['46','7'],\n",
    "    'pred_cat' : ['13','34']\n",
    "})\n",
    "\n",
    "index = ['actual dog','actual cat']\n",
    "\n",
    "df = pd.DataFrame(data, index = index)\n",
    "df"
   ]
  },
  {
   "cell_type": "markdown",
   "id": "7e70ab7f-7733-4b54-b431-8750ecf20409",
   "metadata": {},
   "source": [
    "##### a. "
   ]
  },
  {
   "cell_type": "markdown",
   "id": "186f75bd-26bb-4a00-8176-facd70ea0da5",
   "metadata": {},
   "source": [
    "    * positive: is a dog\n",
    "    * negative: is a cat <br>\n",
    "**a. In the context of this problem, what is a false positive?**\n",
    "    * Predicted that the animal is a dog, when it actually is a cat"
   ]
  },
  {
   "cell_type": "code",
   "execution_count": null,
   "id": "9701dbf7-2ac1-4617-aaf0-103a91edbbe7",
   "metadata": {},
   "outputs": [],
   "source": []
  }
 ],
 "metadata": {
  "kernelspec": {
   "display_name": "Python 3 (ipykernel)",
   "language": "python",
   "name": "python3"
  },
  "language_info": {
   "codemirror_mode": {
    "name": "ipython",
    "version": 3
   },
   "file_extension": ".py",
   "mimetype": "text/x-python",
   "name": "python",
   "nbconvert_exporter": "python",
   "pygments_lexer": "ipython3",
   "version": "3.11.4"
  }
 },
 "nbformat": 4,
 "nbformat_minor": 5
}
