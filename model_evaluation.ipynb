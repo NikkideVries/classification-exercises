{
 "cells": [
  {
   "cell_type": "markdown",
   "id": "2649f2cb-75e3-4796-831e-16996edb73ed",
   "metadata": {},
   "source": [
    "# Question 2.\n",
    "Given the following confusion matrix, evaluate (by hand) the model's performacnce."
   ]
  },
  {
   "cell_type": "markdown",
   "id": "11006e04-6b7d-461f-8ae8-668c9f15cdde",
   "metadata": {
    "tags": []
   },
   "source": [
    "|               | pred dog   | pred cat   |\n",
    "|:------------  |-----------:|-----------:|\n",
    "| actual dog    |         46 |         7  |\n",
    "| actual cat    |         13 |         34 |\n"
   ]
  },
  {
   "cell_type": "code",
   "execution_count": 14,
   "id": "0f60e298-219b-4d22-aa32-afcf044a3e82",
   "metadata": {
    "tags": []
   },
   "outputs": [
    {
     "data": {
      "text/html": [
       "<div>\n",
       "<style scoped>\n",
       "    .dataframe tbody tr th:only-of-type {\n",
       "        vertical-align: middle;\n",
       "    }\n",
       "\n",
       "    .dataframe tbody tr th {\n",
       "        vertical-align: top;\n",
       "    }\n",
       "\n",
       "    .dataframe thead th {\n",
       "        text-align: right;\n",
       "    }\n",
       "</style>\n",
       "<table border=\"1\" class=\"dataframe\">\n",
       "  <thead>\n",
       "    <tr style=\"text-align: right;\">\n",
       "      <th></th>\n",
       "      <th>pred_dog</th>\n",
       "      <th>pred_cat</th>\n",
       "    </tr>\n",
       "  </thead>\n",
       "  <tbody>\n",
       "    <tr>\n",
       "      <th>actual dog</th>\n",
       "      <td>46</td>\n",
       "      <td>13</td>\n",
       "    </tr>\n",
       "    <tr>\n",
       "      <th>actual cat</th>\n",
       "      <td>7</td>\n",
       "      <td>34</td>\n",
       "    </tr>\n",
       "  </tbody>\n",
       "</table>\n",
       "</div>"
      ],
      "text/plain": [
       "           pred_dog pred_cat\n",
       "actual dog       46       13\n",
       "actual cat        7       34"
      ]
     },
     "execution_count": 14,
     "metadata": {},
     "output_type": "execute_result"
    }
   ],
   "source": [
    "import pandas as pd\n",
    "from sklearn.metrics import confusion_matrix\n",
    "\n",
    "data = ({\n",
    "    'pred_dog' : ['46','7'],\n",
    "    'pred_cat' : ['13','34']\n",
    "})\n",
    "\n",
    "index = ['actual dog','actual cat']\n",
    "\n",
    "df = pd.DataFrame(data, index = index)\n",
    "df"
   ]
  },
  {
   "cell_type": "markdown",
   "id": "7e70ab7f-7733-4b54-b431-8750ecf20409",
   "metadata": {},
   "source": [
    "##### a. "
   ]
  },
  {
   "cell_type": "markdown",
   "id": "186f75bd-26bb-4a00-8176-facd70ea0da5",
   "metadata": {},
   "source": [
    "    * positive: is a dog\n",
    "    * negative: is a cat \n",
    "#### a. In the context of this problem, what is a false positive?\n",
    "- Predicted that the animal is a dog, when it actually is a cat"
   ]
  },
  {
   "cell_type": "markdown",
   "id": "0ee85353-42b0-4e99-9f9f-bebebbc9b250",
   "metadata": {},
   "source": [
    "#### b. In the context of this probelm, what is false negative?\n",
    "- Predicted that it is a cat, but it is actually a dog"
   ]
  },
  {
   "cell_type": "markdown",
   "id": "544e32e7-888c-4a78-a0fd-1f7782131eef",
   "metadata": {},
   "source": [
    "#### c. How would you describe this model?\n",
    "- TP: we predicted dog, it is a dog = 46\n",
    "- TN: we predicted cat, it is a cat = 34\n",
    "- FP: we predicted cat, it is a dog = 13\n",
    "- FN: we predicted dog, it is a cat = 7"
   ]
  },
  {
   "cell_type": "code",
   "execution_count": 2,
   "id": "23895e14-9546-4580-bdfb-aa8853ee3218",
   "metadata": {},
   "outputs": [],
   "source": [
    "#TP: We predict dog & it's actually dog\n",
    "tp= 46\n",
    "#TN: We predict cat & it's actually cat\n",
    "tn= 34\n",
    "#FP: We predict dog  & it's actually cat\n",
    "fp=13\n",
    "#FN: We predict cat & it's actually dog\n",
    "fn=7"
   ]
  },
  {
   "cell_type": "code",
   "execution_count": 3,
   "id": "9c37a33d-d565-4e71-8ea1-8e14fbf15a47",
   "metadata": {
    "tags": []
   },
   "outputs": [
    {
     "name": "stdout",
     "output_type": "stream",
     "text": [
      "Dog-classifier (where 'DOG' is the positive prediction)\n",
      "\n",
      "True Positives: 46\n",
      "False Positives: 13\n",
      "False Negatives: 7\n",
      "True Negatives: 34\n",
      "______________________\n",
      "\n",
      "Baseline is: Dog - highest frequency\n",
      "Accuracy is: 0.8\n",
      "Recall is: 0.8679245283018868\n",
      "Precision is: 0.7796610169491526\n",
      "\n"
     ]
    }
   ],
   "source": [
    "accuracy = (tp + tn) / (tp + tn + fp + fn)\n",
    "\n",
    "recall = tp / (tp + fn)\n",
    "\n",
    "precision = tp / (tp + fp)\n",
    "\n",
    "print(f\"\"\"Dog-classifier (where 'DOG' is the positive prediction)\n",
    "\n",
    "True Positives: {tp}\n",
    "False Positives: {fp}\n",
    "False Negatives: {fn}\n",
    "True Negatives: {tn}\n",
    "______________________\n",
    "\n",
    "Baseline is: Dog - highest frequency\n",
    "Accuracy is: {accuracy}\n",
    "Recall is: {recall}\n",
    "Precision is: {precision}\n",
    "\"\"\")"
   ]
  },
  {
   "cell_type": "markdown",
   "id": "e82c7c37-22dd-4e3f-98b3-9b89dd66271f",
   "metadata": {},
   "source": [
    "# Question 3:\n",
    "You are working as a datascientist working for Codeup Cody Creator (C3 for short), a rubber-duck manufacturing plant.\n",
    "\n",
    "Unfortunately, some of the rubber ducks that are produced will have defects. Your team has built several models that try to predict those defects, and the data from their predictions can be found here.\n",
    "\n",
    "Use the predictions dataset and pandas to help answer the following questions:\n",
    "\n"
   ]
  },
  {
   "cell_type": "markdown",
   "id": "938a5383-7314-401e-8cf2-b02c03dd47d1",
   "metadata": {},
   "source": [
    "1. An internal team wants to investigate the cause of the manufacturing defects. They tell you that they want to identify as many of the ducks that have a defect as possible. Which evaluation metric would be appropriate here? Which model would be the best fit for this use case?"
   ]
  },
  {
   "cell_type": "markdown",
   "id": "f3fb9c2d-9244-4a6d-8b33-2a484bf0b678",
   "metadata": {},
   "source": [
    "2. Recently several stories in the local news have come out highlighting customers who received a rubber duck with a defect, and portraying C3 in a bad light. The PR team has decided to launch a program that gives customers with a defective duck a vacation to Hawaii. They need you to predict which ducks will have defects, but tell you the really don't want to accidentally give out a vacation package when the duck really doesn't have a defect. Which evaluation metric would be appropriate here? Which model would be the best fit for this use case?"
   ]
  },
  {
   "cell_type": "code",
   "execution_count": 5,
   "id": "584bc0bf-4645-4cda-845b-1809ce7d515e",
   "metadata": {
    "tags": []
   },
   "outputs": [],
   "source": [
    "import pandas as pd\n",
    "#bring in the csv provided in the curriculum exercises\n",
    "cody_df = pd.read_csv('c3.csv')"
   ]
  },
  {
   "cell_type": "code",
   "execution_count": 6,
   "id": "f89a861d-1758-48ad-ae4e-c00bdaeada5f",
   "metadata": {
    "tags": []
   },
   "outputs": [
    {
     "data": {
      "text/html": [
       "<div>\n",
       "<style scoped>\n",
       "    .dataframe tbody tr th:only-of-type {\n",
       "        vertical-align: middle;\n",
       "    }\n",
       "\n",
       "    .dataframe tbody tr th {\n",
       "        vertical-align: top;\n",
       "    }\n",
       "\n",
       "    .dataframe thead th {\n",
       "        text-align: right;\n",
       "    }\n",
       "</style>\n",
       "<table border=\"1\" class=\"dataframe\">\n",
       "  <thead>\n",
       "    <tr style=\"text-align: right;\">\n",
       "      <th></th>\n",
       "      <th>actual</th>\n",
       "      <th>model1</th>\n",
       "      <th>model2</th>\n",
       "      <th>model3</th>\n",
       "    </tr>\n",
       "  </thead>\n",
       "  <tbody>\n",
       "    <tr>\n",
       "      <th>0</th>\n",
       "      <td>No Defect</td>\n",
       "      <td>No Defect</td>\n",
       "      <td>Defect</td>\n",
       "      <td>No Defect</td>\n",
       "    </tr>\n",
       "    <tr>\n",
       "      <th>1</th>\n",
       "      <td>No Defect</td>\n",
       "      <td>No Defect</td>\n",
       "      <td>Defect</td>\n",
       "      <td>Defect</td>\n",
       "    </tr>\n",
       "    <tr>\n",
       "      <th>2</th>\n",
       "      <td>No Defect</td>\n",
       "      <td>No Defect</td>\n",
       "      <td>Defect</td>\n",
       "      <td>No Defect</td>\n",
       "    </tr>\n",
       "    <tr>\n",
       "      <th>3</th>\n",
       "      <td>No Defect</td>\n",
       "      <td>Defect</td>\n",
       "      <td>Defect</td>\n",
       "      <td>Defect</td>\n",
       "    </tr>\n",
       "    <tr>\n",
       "      <th>4</th>\n",
       "      <td>No Defect</td>\n",
       "      <td>No Defect</td>\n",
       "      <td>Defect</td>\n",
       "      <td>No Defect</td>\n",
       "    </tr>\n",
       "  </tbody>\n",
       "</table>\n",
       "</div>"
      ],
      "text/plain": [
       "      actual     model1  model2     model3\n",
       "0  No Defect  No Defect  Defect  No Defect\n",
       "1  No Defect  No Defect  Defect     Defect\n",
       "2  No Defect  No Defect  Defect  No Defect\n",
       "3  No Defect     Defect  Defect     Defect\n",
       "4  No Defect  No Defect  Defect  No Defect"
      ]
     },
     "execution_count": 6,
     "metadata": {},
     "output_type": "execute_result"
    }
   ],
   "source": [
    "cody_df.head()"
   ]
  },
  {
   "cell_type": "code",
   "execution_count": 8,
   "id": "07c48834-fe78-4518-9e4f-ac7dfbb7587f",
   "metadata": {
    "tags": []
   },
   "outputs": [
    {
     "data": {
      "text/plain": [
       "No Defect    184\n",
       "Defect        16\n",
       "Name: actual, dtype: int64"
      ]
     },
     "execution_count": 8,
     "metadata": {},
     "output_type": "execute_result"
    }
   ],
   "source": [
    "#how many defects and non-defects\n",
    "cody_df.actual.value_counts()"
   ]
  },
  {
   "cell_type": "code",
   "execution_count": null,
   "id": "78c556ed-cba0-467c-a879-0ca3c4563b4f",
   "metadata": {},
   "outputs": [],
   "source": []
  }
 ],
 "metadata": {
  "kernelspec": {
   "display_name": "Python 3 (ipykernel)",
   "language": "python",
   "name": "python3"
  },
  "language_info": {
   "codemirror_mode": {
    "name": "ipython",
    "version": 3
   },
   "file_extension": ".py",
   "mimetype": "text/x-python",
   "name": "python",
   "nbconvert_exporter": "python",
   "pygments_lexer": "ipython3",
   "version": "3.11.4"
  }
 },
 "nbformat": 4,
 "nbformat_minor": 5
}
