{
 "cells": [
  {
   "cell_type": "code",
   "execution_count": 1,
   "id": "f9380dd6-6a2c-475c-95e1-9f9f7894c588",
   "metadata": {
    "tags": []
   },
   "outputs": [],
   "source": [
    "# ignore warnings\n",
    "import warnings\n",
    "warnings.filterwarnings(\"ignore\")\n",
    "\n",
    "import pandas as pd\n",
    "import numpy as np\n",
    "\n",
    "from pydataset import data\n",
    "\n",
    "from sklearn.model_selection import train_test_split\n",
    "from sklearn.tree import DecisionTreeClassifier, plot_tree\n",
    "from sklearn.metrics import classification_report\n",
    "from sklearn.metrics import confusion_matrix\n",
    "from sklearn.metrics import ConfusionMatrixDisplay\n",
    "\n",
    "import matplotlib.pyplot as plt\n",
    "import seaborn as sns"
   ]
  },
  {
   "cell_type": "markdown",
   "id": "87009133-baff-405d-9dd7-6a81a1944e4f",
   "metadata": {},
   "source": [
    "# Question 1:\n",
    "What is your baseline prediction? What is your baseline accuracy? remember: your baseline prediction for a classification problem is predicting the most prevelant class in the training dataset (the mode). When you make those predictions, what is your accuracy? This is your baseline accuracy."
   ]
  },
  {
   "cell_type": "code",
   "execution_count": 2,
   "id": "2aea0b07-4c18-4cdf-b309-2868dd5eb2ab",
   "metadata": {
    "tags": []
   },
   "outputs": [],
   "source": [
    "import acquire as ac\n",
    "import prepare as pr"
   ]
  },
  {
   "cell_type": "code",
   "execution_count": 3,
   "id": "247a7f85-b059-4076-a239-0dc1ef0b54ba",
   "metadata": {
    "tags": []
   },
   "outputs": [],
   "source": [
    "titanic = ac.get_titanic_data()"
   ]
  },
  {
   "cell_type": "code",
   "execution_count": 4,
   "id": "0decad5d-86b9-4786-b9e4-246c26b93151",
   "metadata": {
    "tags": []
   },
   "outputs": [],
   "source": [
    "train,val, test = pr.prep_titanic_data(titanic)"
   ]
  },
  {
   "cell_type": "code",
   "execution_count": 5,
   "id": "a0e5cee8-20de-44bc-95ba-b8db91148a3e",
   "metadata": {
    "tags": []
   },
   "outputs": [
    {
     "data": {
      "text/html": [
       "<div>\n",
       "<style scoped>\n",
       "    .dataframe tbody tr th:only-of-type {\n",
       "        vertical-align: middle;\n",
       "    }\n",
       "\n",
       "    .dataframe tbody tr th {\n",
       "        vertical-align: top;\n",
       "    }\n",
       "\n",
       "    .dataframe thead th {\n",
       "        text-align: right;\n",
       "    }\n",
       "</style>\n",
       "<table border=\"1\" class=\"dataframe\">\n",
       "  <thead>\n",
       "    <tr style=\"text-align: right;\">\n",
       "      <th></th>\n",
       "      <th>survived</th>\n",
       "      <th>pclass</th>\n",
       "      <th>age</th>\n",
       "      <th>sibsp</th>\n",
       "      <th>parch</th>\n",
       "      <th>fare</th>\n",
       "      <th>alone</th>\n",
       "      <th>sex_male</th>\n",
       "      <th>embark_town_Queenstown</th>\n",
       "      <th>embark_town_Southampton</th>\n",
       "    </tr>\n",
       "  </thead>\n",
       "  <tbody>\n",
       "    <tr>\n",
       "      <th>583</th>\n",
       "      <td>0</td>\n",
       "      <td>1</td>\n",
       "      <td>36.000000</td>\n",
       "      <td>0</td>\n",
       "      <td>0</td>\n",
       "      <td>40.1250</td>\n",
       "      <td>1</td>\n",
       "      <td>1</td>\n",
       "      <td>0</td>\n",
       "      <td>0</td>\n",
       "    </tr>\n",
       "    <tr>\n",
       "      <th>165</th>\n",
       "      <td>1</td>\n",
       "      <td>3</td>\n",
       "      <td>9.000000</td>\n",
       "      <td>0</td>\n",
       "      <td>2</td>\n",
       "      <td>20.5250</td>\n",
       "      <td>0</td>\n",
       "      <td>1</td>\n",
       "      <td>0</td>\n",
       "      <td>1</td>\n",
       "    </tr>\n",
       "    <tr>\n",
       "      <th>50</th>\n",
       "      <td>0</td>\n",
       "      <td>3</td>\n",
       "      <td>7.000000</td>\n",
       "      <td>4</td>\n",
       "      <td>1</td>\n",
       "      <td>39.6875</td>\n",
       "      <td>0</td>\n",
       "      <td>1</td>\n",
       "      <td>0</td>\n",
       "      <td>1</td>\n",
       "    </tr>\n",
       "    <tr>\n",
       "      <th>259</th>\n",
       "      <td>1</td>\n",
       "      <td>2</td>\n",
       "      <td>50.000000</td>\n",
       "      <td>0</td>\n",
       "      <td>1</td>\n",
       "      <td>26.0000</td>\n",
       "      <td>0</td>\n",
       "      <td>0</td>\n",
       "      <td>0</td>\n",
       "      <td>1</td>\n",
       "    </tr>\n",
       "    <tr>\n",
       "      <th>306</th>\n",
       "      <td>1</td>\n",
       "      <td>1</td>\n",
       "      <td>29.678105</td>\n",
       "      <td>0</td>\n",
       "      <td>0</td>\n",
       "      <td>110.8833</td>\n",
       "      <td>1</td>\n",
       "      <td>0</td>\n",
       "      <td>0</td>\n",
       "      <td>0</td>\n",
       "    </tr>\n",
       "    <tr>\n",
       "      <th>...</th>\n",
       "      <td>...</td>\n",
       "      <td>...</td>\n",
       "      <td>...</td>\n",
       "      <td>...</td>\n",
       "      <td>...</td>\n",
       "      <td>...</td>\n",
       "      <td>...</td>\n",
       "      <td>...</td>\n",
       "      <td>...</td>\n",
       "      <td>...</td>\n",
       "    </tr>\n",
       "    <tr>\n",
       "      <th>313</th>\n",
       "      <td>0</td>\n",
       "      <td>3</td>\n",
       "      <td>28.000000</td>\n",
       "      <td>0</td>\n",
       "      <td>0</td>\n",
       "      <td>7.8958</td>\n",
       "      <td>1</td>\n",
       "      <td>1</td>\n",
       "      <td>0</td>\n",
       "      <td>1</td>\n",
       "    </tr>\n",
       "    <tr>\n",
       "      <th>636</th>\n",
       "      <td>0</td>\n",
       "      <td>3</td>\n",
       "      <td>32.000000</td>\n",
       "      <td>0</td>\n",
       "      <td>0</td>\n",
       "      <td>7.9250</td>\n",
       "      <td>1</td>\n",
       "      <td>1</td>\n",
       "      <td>0</td>\n",
       "      <td>1</td>\n",
       "    </tr>\n",
       "    <tr>\n",
       "      <th>222</th>\n",
       "      <td>0</td>\n",
       "      <td>3</td>\n",
       "      <td>51.000000</td>\n",
       "      <td>0</td>\n",
       "      <td>0</td>\n",
       "      <td>8.0500</td>\n",
       "      <td>1</td>\n",
       "      <td>1</td>\n",
       "      <td>0</td>\n",
       "      <td>1</td>\n",
       "    </tr>\n",
       "    <tr>\n",
       "      <th>485</th>\n",
       "      <td>0</td>\n",
       "      <td>3</td>\n",
       "      <td>29.678105</td>\n",
       "      <td>3</td>\n",
       "      <td>1</td>\n",
       "      <td>25.4667</td>\n",
       "      <td>0</td>\n",
       "      <td>0</td>\n",
       "      <td>0</td>\n",
       "      <td>1</td>\n",
       "    </tr>\n",
       "    <tr>\n",
       "      <th>744</th>\n",
       "      <td>1</td>\n",
       "      <td>3</td>\n",
       "      <td>31.000000</td>\n",
       "      <td>0</td>\n",
       "      <td>0</td>\n",
       "      <td>7.9250</td>\n",
       "      <td>1</td>\n",
       "      <td>1</td>\n",
       "      <td>0</td>\n",
       "      <td>1</td>\n",
       "    </tr>\n",
       "  </tbody>\n",
       "</table>\n",
       "<p>498 rows × 10 columns</p>\n",
       "</div>"
      ],
      "text/plain": [
       "     survived  pclass        age  sibsp  parch      fare  alone  sex_male  \\\n",
       "583         0       1  36.000000      0      0   40.1250      1         1   \n",
       "165         1       3   9.000000      0      2   20.5250      0         1   \n",
       "50          0       3   7.000000      4      1   39.6875      0         1   \n",
       "259         1       2  50.000000      0      1   26.0000      0         0   \n",
       "306         1       1  29.678105      0      0  110.8833      1         0   \n",
       "..        ...     ...        ...    ...    ...       ...    ...       ...   \n",
       "313         0       3  28.000000      0      0    7.8958      1         1   \n",
       "636         0       3  32.000000      0      0    7.9250      1         1   \n",
       "222         0       3  51.000000      0      0    8.0500      1         1   \n",
       "485         0       3  29.678105      3      1   25.4667      0         0   \n",
       "744         1       3  31.000000      0      0    7.9250      1         1   \n",
       "\n",
       "     embark_town_Queenstown  embark_town_Southampton  \n",
       "583                       0                        0  \n",
       "165                       0                        1  \n",
       "50                        0                        1  \n",
       "259                       0                        1  \n",
       "306                       0                        0  \n",
       "..                      ...                      ...  \n",
       "313                       0                        1  \n",
       "636                       0                        1  \n",
       "222                       0                        1  \n",
       "485                       0                        1  \n",
       "744                       0                        1  \n",
       "\n",
       "[498 rows x 10 columns]"
      ]
     },
     "execution_count": 5,
     "metadata": {},
     "output_type": "execute_result"
    }
   ],
   "source": [
    "train"
   ]
  },
  {
   "cell_type": "code",
   "execution_count": 6,
   "id": "9858ab12-9fe0-44a9-a6fe-ff776a6a8367",
   "metadata": {
    "tags": []
   },
   "outputs": [],
   "source": [
    "X_train = train.drop(columns=['survived'])\n",
    "y_train = train.survived"
   ]
  },
  {
   "cell_type": "code",
   "execution_count": 7,
   "id": "b2d08495-c80b-4a75-b185-efc3e5b2e3c1",
   "metadata": {
    "tags": []
   },
   "outputs": [
    {
     "name": "stdout",
     "output_type": "stream",
     "text": [
      "Baseline accuracy: 0.62\n"
     ]
    }
   ],
   "source": [
    "#baseline: the mode is the most frequent outcome\n",
    "baseline = y_train.mode()\n",
    "\n",
    "# Produce a boolean array with the True representing a match between the baseline prediction and reality\n",
    "matches_baseline_prediction = (y_train == 0)\n",
    "\n",
    "baseline_accuracy = matches_baseline_prediction.mean()\n",
    "print(f\"Baseline accuracy: {round(baseline_accuracy, 2)}\")\n",
    "\n"
   ]
  },
  {
   "cell_type": "markdown",
   "id": "86457fcb-f7a3-476a-90c5-18728913aa01",
   "metadata": {},
   "source": [
    "# Question 2:\n",
    "Fit the decision tree classifier to your training sample and transform (i.e. make predictions on the training sample)"
   ]
  },
  {
   "cell_type": "code",
   "execution_count": 8,
   "id": "4d442c11-7a29-442b-83ff-9964583de22c",
   "metadata": {
    "tags": []
   },
   "outputs": [
    {
     "name": "stdout",
     "output_type": "stream",
     "text": [
      "<class 'pandas.core.frame.DataFrame'>\n",
      "Int64Index: 498 entries, 583 to 744\n",
      "Data columns (total 9 columns):\n",
      " #   Column                   Non-Null Count  Dtype  \n",
      "---  ------                   --------------  -----  \n",
      " 0   pclass                   498 non-null    int64  \n",
      " 1   age                      498 non-null    float64\n",
      " 2   sibsp                    498 non-null    int64  \n",
      " 3   parch                    498 non-null    int64  \n",
      " 4   fare                     498 non-null    float64\n",
      " 5   alone                    498 non-null    int64  \n",
      " 6   sex_male                 498 non-null    uint8  \n",
      " 7   embark_town_Queenstown   498 non-null    uint8  \n",
      " 8   embark_town_Southampton  498 non-null    uint8  \n",
      "dtypes: float64(2), int64(4), uint8(3)\n",
      "memory usage: 28.7 KB\n"
     ]
    },
    {
     "data": {
      "text/html": [
       "<div>\n",
       "<style scoped>\n",
       "    .dataframe tbody tr th:only-of-type {\n",
       "        vertical-align: middle;\n",
       "    }\n",
       "\n",
       "    .dataframe tbody tr th {\n",
       "        vertical-align: top;\n",
       "    }\n",
       "\n",
       "    .dataframe thead th {\n",
       "        text-align: right;\n",
       "    }\n",
       "</style>\n",
       "<table border=\"1\" class=\"dataframe\">\n",
       "  <thead>\n",
       "    <tr style=\"text-align: right;\">\n",
       "      <th></th>\n",
       "      <th>pclass</th>\n",
       "      <th>age</th>\n",
       "      <th>sibsp</th>\n",
       "      <th>parch</th>\n",
       "      <th>fare</th>\n",
       "      <th>alone</th>\n",
       "      <th>sex_male</th>\n",
       "      <th>embark_town_Queenstown</th>\n",
       "      <th>embark_town_Southampton</th>\n",
       "    </tr>\n",
       "  </thead>\n",
       "  <tbody>\n",
       "    <tr>\n",
       "      <th>583</th>\n",
       "      <td>1</td>\n",
       "      <td>36.000000</td>\n",
       "      <td>0</td>\n",
       "      <td>0</td>\n",
       "      <td>40.1250</td>\n",
       "      <td>1</td>\n",
       "      <td>1</td>\n",
       "      <td>0</td>\n",
       "      <td>0</td>\n",
       "    </tr>\n",
       "    <tr>\n",
       "      <th>165</th>\n",
       "      <td>3</td>\n",
       "      <td>9.000000</td>\n",
       "      <td>0</td>\n",
       "      <td>2</td>\n",
       "      <td>20.5250</td>\n",
       "      <td>0</td>\n",
       "      <td>1</td>\n",
       "      <td>0</td>\n",
       "      <td>1</td>\n",
       "    </tr>\n",
       "    <tr>\n",
       "      <th>50</th>\n",
       "      <td>3</td>\n",
       "      <td>7.000000</td>\n",
       "      <td>4</td>\n",
       "      <td>1</td>\n",
       "      <td>39.6875</td>\n",
       "      <td>0</td>\n",
       "      <td>1</td>\n",
       "      <td>0</td>\n",
       "      <td>1</td>\n",
       "    </tr>\n",
       "    <tr>\n",
       "      <th>259</th>\n",
       "      <td>2</td>\n",
       "      <td>50.000000</td>\n",
       "      <td>0</td>\n",
       "      <td>1</td>\n",
       "      <td>26.0000</td>\n",
       "      <td>0</td>\n",
       "      <td>0</td>\n",
       "      <td>0</td>\n",
       "      <td>1</td>\n",
       "    </tr>\n",
       "    <tr>\n",
       "      <th>306</th>\n",
       "      <td>1</td>\n",
       "      <td>29.678105</td>\n",
       "      <td>0</td>\n",
       "      <td>0</td>\n",
       "      <td>110.8833</td>\n",
       "      <td>1</td>\n",
       "      <td>0</td>\n",
       "      <td>0</td>\n",
       "      <td>0</td>\n",
       "    </tr>\n",
       "  </tbody>\n",
       "</table>\n",
       "</div>"
      ],
      "text/plain": [
       "     pclass        age  sibsp  parch      fare  alone  sex_male  \\\n",
       "583       1  36.000000      0      0   40.1250      1         1   \n",
       "165       3   9.000000      0      2   20.5250      0         1   \n",
       "50        3   7.000000      4      1   39.6875      0         1   \n",
       "259       2  50.000000      0      1   26.0000      0         0   \n",
       "306       1  29.678105      0      0  110.8833      1         0   \n",
       "\n",
       "     embark_town_Queenstown  embark_town_Southampton  \n",
       "583                       0                        0  \n",
       "165                       0                        1  \n",
       "50                        0                        1  \n",
       "259                       0                        1  \n",
       "306                       0                        0  "
      ]
     },
     "execution_count": 8,
     "metadata": {},
     "output_type": "execute_result"
    }
   ],
   "source": [
    "X_train.info()\n",
    "X_train.head()"
   ]
  },
  {
   "cell_type": "code",
   "execution_count": 9,
   "id": "c8f34941-31c5-49eb-93d2-04104ec82127",
   "metadata": {
    "tags": []
   },
   "outputs": [],
   "source": [
    "# making the model:\n",
    "tree = DecisionTreeClassifier(max_depth=3, random_state=123)"
   ]
  },
  {
   "cell_type": "code",
   "execution_count": 10,
   "id": "f2361797-a22c-40de-9d81-10a072f05997",
   "metadata": {
    "tags": []
   },
   "outputs": [],
   "source": [
    "# fit the model:\n",
    "tree = tree.fit(X_train, y_train)"
   ]
  },
  {
   "cell_type": "code",
   "execution_count": 11,
   "id": "d2b91420-2240-46df-a356-68cc027f13d0",
   "metadata": {
    "tags": []
   },
   "outputs": [
    {
     "data": {
      "image/png": "[encoded data removed]",
      "text/plain": [
       "<Figure size 1200x700 with 1 Axes>"
      ]
     },
     "metadata": {},
     "output_type": "display_data"
    }
   ],
   "source": [
    "# plot the figure:\n",
    "plt.figure(figsize=(12, 7))\n",
    "plot_tree(tree, feature_names=X_train.columns.tolist(), class_names=['0','1'])\n",
    "plt.show()"
   ]
  },
  {
   "cell_type": "code",
   "execution_count": 12,
   "id": "1a790e9d-9e05-4e2b-9282-e639fa784e7c",
   "metadata": {
    "tags": []
   },
   "outputs": [
    {
     "data": {
      "text/plain": [
       "array([0, 0, 0, 1, 1])"
      ]
     },
     "execution_count": 12,
     "metadata": {},
     "output_type": "execute_result"
    }
   ],
   "source": [
    "# make predictions:\n",
    "tree.predict(X_train)[:5]"
   ]
  },
  {
   "cell_type": "code",
   "execution_count": 13,
   "id": "dc39dc5d-ab54-4df0-a7d6-f1c9d45d8f8c",
   "metadata": {
    "tags": []
   },
   "outputs": [
    {
     "data": {
      "text/plain": [
       "0.8253012048192772"
      ]
     },
     "execution_count": 13,
     "metadata": {},
     "output_type": "execute_result"
    }
   ],
   "source": [
    "tree.score(X_train, y_train)"
   ]
  },
  {
   "cell_type": "markdown",
   "id": "ee2144d2-5e60-4b83-b0ce-80ef6290d366",
   "metadata": {},
   "source": [
    "# Question 3:\n",
    "Evaluate your in-sample results using the model score, confusion matrix, and classification report."
   ]
  },
  {
   "cell_type": "code",
   "execution_count": 14,
   "id": "219c1fd0-8cbc-4540-953c-418dd72f5034",
   "metadata": {
    "tags": []
   },
   "outputs": [],
   "source": [
    "# making predictions for surivived \n",
    "y_pred = tree.predict(X_train)"
   ]
  },
  {
   "cell_type": "code",
   "execution_count": 15,
   "id": "7d3c8f70-ec7f-4492-8d2a-1e53d839216a",
   "metadata": {
    "tags": []
   },
   "outputs": [
    {
     "data": {
      "text/plain": [
       "array([[277,  30],\n",
       "       [ 57, 134]])"
      ]
     },
     "execution_count": 15,
     "metadata": {},
     "output_type": "execute_result"
    }
   ],
   "source": [
    "# make confusion matrix\n",
    "con = confusion_matrix(y_train, y_pred)\n",
    "con"
   ]
  },
  {
   "cell_type": "code",
   "execution_count": 16,
   "id": "d179a3ab-8ca4-4b12-947c-5ad99c2d254a",
   "metadata": {
    "tags": []
   },
   "outputs": [],
   "source": [
    "labels = [0, 1]"
   ]
  },
  {
   "cell_type": "code",
   "execution_count": 17,
   "id": "12583c37-0121-4bfd-9555-3f4241dc443b",
   "metadata": {
    "tags": []
   },
   "outputs": [
    {
     "data": {
      "text/html": [
       "<div>\n",
       "<style scoped>\n",
       "    .dataframe tbody tr th:only-of-type {\n",
       "        vertical-align: middle;\n",
       "    }\n",
       "\n",
       "    .dataframe tbody tr th {\n",
       "        vertical-align: top;\n",
       "    }\n",
       "\n",
       "    .dataframe thead th {\n",
       "        text-align: right;\n",
       "    }\n",
       "</style>\n",
       "<table border=\"1\" class=\"dataframe\">\n",
       "  <thead>\n",
       "    <tr style=\"text-align: right;\">\n",
       "      <th></th>\n",
       "      <th>0_predict</th>\n",
       "      <th>1_predict</th>\n",
       "    </tr>\n",
       "  </thead>\n",
       "  <tbody>\n",
       "    <tr>\n",
       "      <th>0_actual</th>\n",
       "      <td>277</td>\n",
       "      <td>30</td>\n",
       "    </tr>\n",
       "    <tr>\n",
       "      <th>1_actual</th>\n",
       "      <td>57</td>\n",
       "      <td>134</td>\n",
       "    </tr>\n",
       "  </tbody>\n",
       "</table>\n",
       "</div>"
      ],
      "text/plain": [
       "          0_predict  1_predict\n",
       "0_actual        277         30\n",
       "1_actual         57        134"
      ]
     },
     "execution_count": 17,
     "metadata": {},
     "output_type": "execute_result"
    }
   ],
   "source": [
    "pd.DataFrame(con, \n",
    "            index=[str(label) + '_actual'for label in labels],\n",
    "            columns=[str(label) + '_predict'for label in labels])"
   ]
  },
  {
   "cell_type": "code",
   "execution_count": 18,
   "id": "99fa9e17-4da9-4aed-8f46-b2f7d9fcc9c6",
   "metadata": {
    "tags": []
   },
   "outputs": [
    {
     "data": {
      "image/png": "[encoded data removed]",
      "text/plain": [
       "<Figure size 640x480 with 2 Axes>"
      ]
     },
     "metadata": {},
     "output_type": "display_data"
    }
   ],
   "source": [
    "# another view of the confusion matrix:\n",
    "disp = ConfusionMatrixDisplay(confusion_matrix=con, display_labels=tree.classes_)\n",
    "disp.plot()\n",
    "plt.show()"
   ]
  },
  {
   "cell_type": "code",
   "execution_count": 19,
   "id": "9660fa13-f535-4593-a848-5c43a757018a",
   "metadata": {
    "tags": []
   },
   "outputs": [
    {
     "name": "stdout",
     "output_type": "stream",
     "text": [
      "              precision    recall  f1-score   support\n",
      "\n",
      "           0       0.83      0.90      0.86       307\n",
      "           1       0.82      0.70      0.75       191\n",
      "\n",
      "    accuracy                           0.83       498\n",
      "   macro avg       0.82      0.80      0.81       498\n",
      "weighted avg       0.82      0.83      0.82       498\n",
      "\n"
     ]
    }
   ],
   "source": [
    "# classification report:\n",
    "print(classification_report(y_train, y_pred))"
   ]
  },
  {
   "cell_type": "markdown",
   "id": "bbd2d68c-60ab-4a28-8c9f-ea2a9053aea1",
   "metadata": {},
   "source": [
    "# Question 4: \n",
    "Compute: Accuracy, true positive rate, false positive rate, true negative rate, false negative rate, precision, recall, f1-score, and support."
   ]
  },
  {
   "cell_type": "code",
   "execution_count": 20,
   "id": "b63acd1a-cffb-459b-a8fb-4bf38f7d8593",
   "metadata": {
    "tags": []
   },
   "outputs": [
    {
     "data": {
      "text/plain": [
       "array([277,  30,  57, 134])"
      ]
     },
     "execution_count": 20,
     "metadata": {},
     "output_type": "execute_result"
    }
   ],
   "source": [
    "con.ravel()"
   ]
  },
  {
   "cell_type": "code",
   "execution_count": 21,
   "id": "02bcc74e-9553-4fc3-b947-b0184e91d3e3",
   "metadata": {
    "tags": []
   },
   "outputs": [
    {
     "data": {
      "text/plain": [
       "(277, 30, 57, 134)"
      ]
     },
     "execution_count": 21,
     "metadata": {},
     "output_type": "execute_result"
    }
   ],
   "source": [
    "# setting confusion matrix variables\n",
    "TN, FP, FN, TP = con.ravel()\n",
    "TN, FP, FN, TP"
   ]
  },
  {
   "cell_type": "code",
   "execution_count": 22,
   "id": "7231f801-2c91-4222-8c33-bf555f5dbbfd",
   "metadata": {
    "tags": []
   },
   "outputs": [],
   "source": [
    "# confusion matrix equations:\n",
    "all_ = (TP + TN + FP + FN)\n",
    "\n",
    "accuracy = (TP + TN) / all_\n",
    "\n",
    "TPR = recall = TP / (TP + FN)\n",
    "FPR = FP / (FP + TN)\n",
    "\n",
    "TNR = TN / (FP + TN)\n",
    "FNR = FN / (FN + TP)\n",
    "\n",
    "precision =  TP / (TP + FP)\n",
    "f1 =  2 * ((precision * recall) / ( precision + recall))\n",
    "\n",
    "support_pos = TP + FN\n",
    "support_neg = FP + TN"
   ]
  },
  {
   "cell_type": "code",
   "execution_count": 23,
   "id": "4d156cc3-b36f-4dfc-af98-edda6f9887d7",
   "metadata": {
    "tags": []
   },
   "outputs": [
    {
     "name": "stdout",
     "output_type": "stream",
     "text": [
      "Accuracy: 0.8253012048192772\n",
      "\n",
      "True Positive Rate/Sensitivity/Recall/Power: 0.7015706806282722\n",
      "False Positive Rate/False Alarm Ratio/Fall-out: 0.09771986970684039\n",
      "True Negative Rate/Specificity/Selectivity: 0.9022801302931596\n",
      "False Negative Rate/Miss Rate: 0.29842931937172773\n",
      "\n",
      "Precision/PPV: 0.8170731707317073\n",
      "F1 Score: 0.7549295774647887\n",
      "\n",
      "Support (0): 191\n",
      "Support (1): 307\n"
     ]
    }
   ],
   "source": [
    "# running the calculations:\n",
    "print(f\"Accuracy: {accuracy}\\n\")\n",
    "print(f\"True Positive Rate/Sensitivity/Recall/Power: {TPR}\")\n",
    "print(f\"False Positive Rate/False Alarm Ratio/Fall-out: {FPR}\")\n",
    "print(f\"True Negative Rate/Specificity/Selectivity: {TNR}\")\n",
    "print(f\"False Negative Rate/Miss Rate: {FNR}\\n\")\n",
    "print(f\"Precision/PPV: {precision}\")\n",
    "print(f\"F1 Score: {f1}\\n\")\n",
    "print(f\"Support (0): {support_pos}\")\n",
    "print(f\"Support (1): {support_neg}\")"
   ]
  },
  {
   "cell_type": "markdown",
   "id": "bd7bb82d-880e-4042-9165-457f7c6b60a9",
   "metadata": {},
   "source": [
    "# Question 5:\n",
    "Run through steps 2-4 using a different max_depth value."
   ]
  },
  {
   "cell_type": "code",
   "execution_count": 25,
   "id": "4801da44-211e-49fe-9d63-3e19757beb7b",
   "metadata": {
    "tags": []
   },
   "outputs": [
    {
     "name": "stdout",
     "output_type": "stream",
     "text": [
      "for depth of  1, the accuracy is 0.8\n",
      "for depth of  2, the accuracy is 0.8\n",
      "for depth of  3, the accuracy is 0.83\n",
      "for depth of  4, the accuracy is 0.84\n",
      "for depth of  5, the accuracy is 0.85\n",
      "for depth of  6, the accuracy is 0.87\n",
      "for depth of  7, the accuracy is 0.89\n",
      "for depth of  8, the accuracy is 0.9\n",
      "for depth of  9, the accuracy is 0.92\n",
      "for depth of 10, the accuracy is 0.93\n",
      "for depth of 11, the accuracy is 0.96\n",
      "for depth of 12, the accuracy is 0.97\n",
      "for depth of 13, the accuracy is 0.98\n",
      "for depth of 14, the accuracy is 0.99\n",
      "for depth of 15, the accuracy is 1.0\n",
      "for depth of 16, the accuracy is 1.0\n",
      "for depth of 17, the accuracy is 1.0\n",
      "for depth of 18, the accuracy is 1.0\n",
      "for depth of 19, the accuracy is 1.0\n"
     ]
    }
   ],
   "source": [
    "#for lots\n",
    "for x in range(1,20):\n",
    "#     print(x)\n",
    "    clf = DecisionTreeClassifier(max_depth=x)\n",
    "    clf.fit(X_train, y_train)\n",
    "    acc = clf.score(X_train, y_train)\n",
    "    print(f'for depth of {x:2}, the accuracy is {round(acc,2)}')"
   ]
  },
  {
   "cell_type": "code",
   "execution_count": 24,
   "id": "e5622d88-9eab-4ee8-9535-c91edc1cfac7",
   "metadata": {
    "tags": []
   },
   "outputs": [
    {
     "name": "stdout",
     "output_type": "stream",
     "text": [
      "Tree with max depth of 1\n",
      "                    0           1  accuracy   macro avg  weighted avg\n",
      "precision    0.820433    0.760000  0.799197    0.790217      0.797255\n",
      "recall       0.863192    0.696335  0.799197    0.779764      0.799197\n",
      "f1-score     0.841270    0.726776  0.799197    0.784023      0.797358\n",
      "support    307.000000  191.000000  0.799197  498.000000    498.000000\n",
      "\n",
      "Tree with max depth of 2\n",
      "                    0           1  accuracy   macro avg  weighted avg\n",
      "precision    0.820433    0.760000  0.799197    0.790217      0.797255\n",
      "recall       0.863192    0.696335  0.799197    0.779764      0.799197\n",
      "f1-score     0.841270    0.726776  0.799197    0.784023      0.797358\n",
      "support    307.000000  191.000000  0.799197  498.000000    498.000000\n",
      "\n",
      "Tree with max depth of 3\n",
      "                    0           1  accuracy   macro avg  weighted avg\n",
      "precision    0.829341    0.817073  0.825301    0.823207      0.824636\n",
      "recall       0.902280    0.701571  0.825301    0.801925      0.825301\n",
      "f1-score     0.864275    0.754930  0.825301    0.809602      0.822337\n",
      "support    307.000000  191.000000  0.825301  498.000000    498.000000\n",
      "\n",
      "Tree with max depth of 4\n",
      "                    0           1  accuracy   macro avg  weighted avg\n",
      "precision    0.831858    0.842767  0.835341    0.837313      0.836042\n",
      "recall       0.918567    0.701571  0.835341    0.810069      0.835341\n",
      "f1-score     0.873065    0.765714  0.835341    0.819390      0.831892\n",
      "support    307.000000  191.000000  0.835341  498.000000    498.000000\n",
      "\n",
      "Tree with max depth of 5\n",
      "                    0           1  accuracy   macro avg  weighted avg\n",
      "precision    0.852410    0.855422  0.853414    0.853916      0.853565\n",
      "recall       0.921824    0.743455  0.853414    0.832640      0.853414\n",
      "f1-score     0.885759    0.795518  0.853414    0.840639      0.851149\n",
      "support    307.000000  191.000000  0.853414  498.000000    498.000000\n",
      "\n",
      "Tree with max depth of 6\n",
      "                    0           1  accuracy   macro avg  weighted avg\n",
      "precision    0.838983    0.930556  0.865462    0.884769      0.874104\n",
      "recall       0.967427    0.701571  0.865462    0.834499      0.865462\n",
      "f1-score     0.898638    0.800000  0.865462    0.849319      0.860807\n",
      "support    307.000000  191.000000  0.865462  498.000000    498.000000\n",
      "\n",
      "Tree with max depth of 7\n",
      "                    0           1  accuracy   macro avg  weighted avg\n",
      "precision    0.895570    0.868132  0.885542    0.881851      0.885046\n",
      "recall       0.921824    0.827225  0.885542    0.874525      0.885542\n",
      "f1-score     0.908507    0.847185  0.885542    0.877846      0.884988\n",
      "support    307.000000  191.000000  0.885542  498.000000    498.000000\n",
      "\n",
      "Tree with max depth of 8\n",
      "                    0           1  accuracy   macro avg  weighted avg\n",
      "precision    0.872093    0.954545   0.89759    0.913319      0.903716\n",
      "recall       0.977199    0.769634   0.89759    0.873416      0.897590\n",
      "f1-score     0.921659    0.852174   0.89759    0.886916      0.895009\n",
      "support    307.000000  191.000000   0.89759  498.000000    498.000000\n",
      "\n",
      "Tree with max depth of 9\n",
      "                    0           1  accuracy   macro avg  weighted avg\n",
      "precision    0.909366    0.964072  0.927711    0.936719      0.930347\n",
      "recall       0.980456    0.842932  0.927711    0.911694      0.927711\n",
      "f1-score     0.943574    0.899441  0.927711    0.921508      0.926647\n",
      "support    307.000000  191.000000  0.927711  498.000000    498.000000\n",
      "\n",
      "Tree with max depth of 10\n",
      "                    0           1  accuracy   macro avg  weighted avg\n",
      "precision    0.944984    0.920635  0.935743    0.932809      0.935645\n",
      "recall       0.951140    0.910995  0.935743    0.931067      0.935743\n",
      "f1-score     0.948052    0.915789  0.935743    0.931921      0.935678\n",
      "support    307.000000  191.000000  0.935743  498.000000    498.000000\n",
      "\n",
      "Tree with max depth of 11\n",
      "                    0           1  accuracy   macro avg  weighted avg\n",
      "precision    0.955836    0.977901  0.963855    0.966868      0.964298\n",
      "recall       0.986971    0.926702  0.963855    0.956836      0.963855\n",
      "f1-score     0.971154    0.951613  0.963855    0.961383      0.963659\n",
      "support    307.000000  191.000000  0.963855  498.000000    498.000000\n",
      "\n",
      "Tree with max depth of 12\n",
      "                    0           1  accuracy   macro avg  weighted avg\n",
      "precision    0.959248    0.994413  0.971888    0.976831      0.972735\n",
      "recall       0.996743    0.931937  0.971888    0.964340      0.971888\n",
      "f1-score     0.977636    0.962162  0.971888    0.969899      0.971701\n",
      "support    307.000000  191.000000  0.971888  498.000000    498.000000\n",
      "\n",
      "Tree with max depth of 13\n",
      "                    0           1  accuracy   macro avg  weighted avg\n",
      "precision    0.974603    1.000000  0.983936    0.987302      0.984344\n",
      "recall       1.000000    0.958115  0.983936    0.979058      0.983936\n",
      "f1-score     0.987138    0.978610  0.983936    0.982874      0.983867\n",
      "support    307.000000  191.000000  0.983936  498.000000    498.000000\n",
      "\n",
      "Tree with max depth of 14\n",
      "                    0           1  accuracy   macro avg  weighted avg\n",
      "precision    0.990323    1.000000  0.993976    0.995161      0.994034\n",
      "recall       1.000000    0.984293  0.993976    0.992147      0.993976\n",
      "f1-score     0.995138    0.992084  0.993976    0.993611      0.993967\n",
      "support    307.000000  191.000000  0.993976  498.000000    498.000000\n",
      "\n",
      "Tree with max depth of 15\n",
      "                    0           1  accuracy   macro avg  weighted avg\n",
      "precision    0.993528    1.000000  0.995984    0.996764      0.996010\n",
      "recall       1.000000    0.989529  0.995984    0.994764      0.995984\n",
      "f1-score     0.996753    0.994737  0.995984    0.995745      0.995980\n",
      "support    307.000000  191.000000  0.995984  498.000000    498.000000\n",
      "\n",
      "Tree with max depth of 16\n",
      "                    0           1  accuracy   macro avg  weighted avg\n",
      "precision    0.993528    1.000000  0.995984    0.996764      0.996010\n",
      "recall       1.000000    0.989529  0.995984    0.994764      0.995984\n",
      "f1-score     0.996753    0.994737  0.995984    0.995745      0.995980\n",
      "support    307.000000  191.000000  0.995984  498.000000    498.000000\n",
      "\n",
      "Tree with max depth of 17\n",
      "                    0           1  accuracy   macro avg  weighted avg\n",
      "precision    0.993528    1.000000  0.995984    0.996764      0.996010\n",
      "recall       1.000000    0.989529  0.995984    0.994764      0.995984\n",
      "f1-score     0.996753    0.994737  0.995984    0.995745      0.995980\n",
      "support    307.000000  191.000000  0.995984  498.000000    498.000000\n",
      "\n",
      "Tree with max depth of 18\n",
      "                    0           1  accuracy   macro avg  weighted avg\n",
      "precision    0.993528    1.000000  0.995984    0.996764      0.996010\n",
      "recall       1.000000    0.989529  0.995984    0.994764      0.995984\n",
      "f1-score     0.996753    0.994737  0.995984    0.995745      0.995980\n",
      "support    307.000000  191.000000  0.995984  498.000000    498.000000\n",
      "\n",
      "Tree with max depth of 19\n",
      "                    0           1  accuracy   macro avg  weighted avg\n",
      "precision    0.993528    1.000000  0.995984    0.996764      0.996010\n",
      "recall       1.000000    0.989529  0.995984    0.994764      0.995984\n",
      "f1-score     0.996753    0.994737  0.995984    0.995745      0.995980\n",
      "support    307.000000  191.000000  0.995984  498.000000    498.000000\n",
      "\n",
      "Tree with max depth of 20\n",
      "                    0           1  accuracy   macro avg  weighted avg\n",
      "precision    0.993528    1.000000  0.995984    0.996764      0.996010\n",
      "recall       1.000000    0.989529  0.995984    0.994764      0.995984\n",
      "f1-score     0.996753    0.994737  0.995984    0.995745      0.995980\n",
      "support    307.000000  191.000000  0.995984  498.000000    498.000000\n",
      "\n"
     ]
    }
   ],
   "source": [
    "# making a loop to speed up the process of making the models.\n",
    "for i in range(1, 21):\n",
    "    # Make the model\n",
    "    trees = DecisionTreeClassifier(max_depth=i, random_state=1349)\n",
    "\n",
    "    # Fit the model (on train and only train)\n",
    "    trees = trees.fit(X_train, y_train)\n",
    "\n",
    "    # Use the model\n",
    "    # We'll evaluate the model's performance on train, first\n",
    "    y_predictions = trees.predict(X_train)\n",
    "\n",
    "    # Produce the classification report on the actual y values and this model's predicted y values\n",
    "    report = classification_report(y_train, y_predictions, output_dict=True)\n",
    "    print(f\"Tree with max depth of {i}\")\n",
    "    print(pd.DataFrame(report))\n",
    "    print()"
   ]
  },
  {
   "cell_type": "markdown",
   "id": "83c36c91-a1cc-46ac-9e1b-fb07664b70c1",
   "metadata": {},
   "source": [
    "# Question 6:\n",
    "Which model performs better on your in-sample data?\n"
   ]
  },
  {
   "cell_type": "markdown",
   "id": "3a6ffaed-aca2-47a3-b21f-f0ad4fbbe52f",
   "metadata": {},
   "source": [
    "models with a depth of 15 or more have a higher accuracy"
   ]
  },
  {
   "cell_type": "markdown",
   "id": "b9ee234d-df60-4be1-99e0-c4b01dff863b",
   "metadata": {},
   "source": [
    "# Question 7:\n",
    "Which model performs best on your out-of-sample data, the validate set?"
   ]
  },
  {
   "cell_type": "code",
   "execution_count": 28,
   "id": "f116534f-ec59-47ff-9951-d3773ed0c9ec",
   "metadata": {
    "tags": []
   },
   "outputs": [],
   "source": [
    "X_val = val.drop(columns='survived')\n",
    "y_val = val.survived\n",
    "\n",
    "X_test = test.drop(columns='survived')\n",
    "y_test = test.survived"
   ]
  },
  {
   "cell_type": "code",
   "execution_count": 29,
   "id": "68565981-4805-4681-bd59-678d7fc784ec",
   "metadata": {
    "tags": []
   },
   "outputs": [
    {
     "data": {
      "text/html": [
       "<div>\n",
       "<style scoped>\n",
       "    .dataframe tbody tr th:only-of-type {\n",
       "        vertical-align: middle;\n",
       "    }\n",
       "\n",
       "    .dataframe tbody tr th {\n",
       "        vertical-align: top;\n",
       "    }\n",
       "\n",
       "    .dataframe thead th {\n",
       "        text-align: right;\n",
       "    }\n",
       "</style>\n",
       "<table border=\"1\" class=\"dataframe\">\n",
       "  <thead>\n",
       "    <tr style=\"text-align: right;\">\n",
       "      <th></th>\n",
       "      <th>max_depth</th>\n",
       "      <th>train_accuracy</th>\n",
       "      <th>validate_accuracy</th>\n",
       "      <th>difference</th>\n",
       "    </tr>\n",
       "  </thead>\n",
       "  <tbody>\n",
       "    <tr>\n",
       "      <th>0</th>\n",
       "      <td>1</td>\n",
       "      <td>0.799197</td>\n",
       "      <td>0.761682</td>\n",
       "      <td>0.037515</td>\n",
       "    </tr>\n",
       "    <tr>\n",
       "      <th>1</th>\n",
       "      <td>2</td>\n",
       "      <td>0.799197</td>\n",
       "      <td>0.761682</td>\n",
       "      <td>0.037515</td>\n",
       "    </tr>\n",
       "    <tr>\n",
       "      <th>2</th>\n",
       "      <td>3</td>\n",
       "      <td>0.825301</td>\n",
       "      <td>0.799065</td>\n",
       "      <td>0.026236</td>\n",
       "    </tr>\n",
       "    <tr>\n",
       "      <th>3</th>\n",
       "      <td>4</td>\n",
       "      <td>0.835341</td>\n",
       "      <td>0.794393</td>\n",
       "      <td>0.040949</td>\n",
       "    </tr>\n",
       "    <tr>\n",
       "      <th>4</th>\n",
       "      <td>5</td>\n",
       "      <td>0.853414</td>\n",
       "      <td>0.799065</td>\n",
       "      <td>0.054348</td>\n",
       "    </tr>\n",
       "    <tr>\n",
       "      <th>5</th>\n",
       "      <td>6</td>\n",
       "      <td>0.865462</td>\n",
       "      <td>0.789720</td>\n",
       "      <td>0.075742</td>\n",
       "    </tr>\n",
       "    <tr>\n",
       "      <th>6</th>\n",
       "      <td>7</td>\n",
       "      <td>0.885542</td>\n",
       "      <td>0.780374</td>\n",
       "      <td>0.105168</td>\n",
       "    </tr>\n",
       "    <tr>\n",
       "      <th>7</th>\n",
       "      <td>8</td>\n",
       "      <td>0.897590</td>\n",
       "      <td>0.799065</td>\n",
       "      <td>0.098525</td>\n",
       "    </tr>\n",
       "    <tr>\n",
       "      <th>8</th>\n",
       "      <td>9</td>\n",
       "      <td>0.921687</td>\n",
       "      <td>0.794393</td>\n",
       "      <td>0.127294</td>\n",
       "    </tr>\n",
       "    <tr>\n",
       "      <th>9</th>\n",
       "      <td>10</td>\n",
       "      <td>0.933735</td>\n",
       "      <td>0.789720</td>\n",
       "      <td>0.144015</td>\n",
       "    </tr>\n",
       "    <tr>\n",
       "      <th>10</th>\n",
       "      <td>11</td>\n",
       "      <td>0.955823</td>\n",
       "      <td>0.803738</td>\n",
       "      <td>0.152085</td>\n",
       "    </tr>\n",
       "    <tr>\n",
       "      <th>11</th>\n",
       "      <td>12</td>\n",
       "      <td>0.975904</td>\n",
       "      <td>0.808411</td>\n",
       "      <td>0.167492</td>\n",
       "    </tr>\n",
       "    <tr>\n",
       "      <th>12</th>\n",
       "      <td>13</td>\n",
       "      <td>0.985944</td>\n",
       "      <td>0.822430</td>\n",
       "      <td>0.163514</td>\n",
       "    </tr>\n",
       "    <tr>\n",
       "      <th>13</th>\n",
       "      <td>14</td>\n",
       "      <td>0.989960</td>\n",
       "      <td>0.808411</td>\n",
       "      <td>0.181549</td>\n",
       "    </tr>\n",
       "    <tr>\n",
       "      <th>14</th>\n",
       "      <td>15</td>\n",
       "      <td>0.995984</td>\n",
       "      <td>0.817757</td>\n",
       "      <td>0.178227</td>\n",
       "    </tr>\n",
       "    <tr>\n",
       "      <th>15</th>\n",
       "      <td>16</td>\n",
       "      <td>0.995984</td>\n",
       "      <td>0.813084</td>\n",
       "      <td>0.182900</td>\n",
       "    </tr>\n",
       "    <tr>\n",
       "      <th>16</th>\n",
       "      <td>17</td>\n",
       "      <td>0.995984</td>\n",
       "      <td>0.813084</td>\n",
       "      <td>0.182900</td>\n",
       "    </tr>\n",
       "    <tr>\n",
       "      <th>17</th>\n",
       "      <td>18</td>\n",
       "      <td>0.995984</td>\n",
       "      <td>0.813084</td>\n",
       "      <td>0.182900</td>\n",
       "    </tr>\n",
       "    <tr>\n",
       "      <th>18</th>\n",
       "      <td>19</td>\n",
       "      <td>0.995984</td>\n",
       "      <td>0.813084</td>\n",
       "      <td>0.182900</td>\n",
       "    </tr>\n",
       "    <tr>\n",
       "      <th>19</th>\n",
       "      <td>20</td>\n",
       "      <td>0.995984</td>\n",
       "      <td>0.813084</td>\n",
       "      <td>0.182900</td>\n",
       "    </tr>\n",
       "  </tbody>\n",
       "</table>\n",
       "</div>"
      ],
      "text/plain": [
       "    max_depth  train_accuracy  validate_accuracy  difference\n",
       "0           1        0.799197           0.761682    0.037515\n",
       "1           2        0.799197           0.761682    0.037515\n",
       "2           3        0.825301           0.799065    0.026236\n",
       "3           4        0.835341           0.794393    0.040949\n",
       "4           5        0.853414           0.799065    0.054348\n",
       "5           6        0.865462           0.789720    0.075742\n",
       "6           7        0.885542           0.780374    0.105168\n",
       "7           8        0.897590           0.799065    0.098525\n",
       "8           9        0.921687           0.794393    0.127294\n",
       "9          10        0.933735           0.789720    0.144015\n",
       "10         11        0.955823           0.803738    0.152085\n",
       "11         12        0.975904           0.808411    0.167492\n",
       "12         13        0.985944           0.822430    0.163514\n",
       "13         14        0.989960           0.808411    0.181549\n",
       "14         15        0.995984           0.817757    0.178227\n",
       "15         16        0.995984           0.813084    0.182900\n",
       "16         17        0.995984           0.813084    0.182900\n",
       "17         18        0.995984           0.813084    0.182900\n",
       "18         19        0.995984           0.813084    0.182900\n",
       "19         20        0.995984           0.813084    0.182900"
      ]
     },
     "execution_count": 29,
     "metadata": {},
     "output_type": "execute_result"
    }
   ],
   "source": [
    "metrics = []\n",
    "\n",
    "for i in range(1, 21):\n",
    "    # Make the model\n",
    "    tree = DecisionTreeClassifier(max_depth=i, random_state=123)\n",
    "\n",
    "    # Fit the model (on train and only train)\n",
    "    tree = tree.fit(X_train, y_train)\n",
    "\n",
    "    # Use the model\n",
    "    # We'll evaluate the model's performance on train, first\n",
    "    in_sample_accuracy = tree.score(X_train, y_train)\n",
    "    \n",
    "    out_of_sample_accuracy = tree.score(X_val, y_val)\n",
    "\n",
    "    output = {\n",
    "        \"max_depth\": i,\n",
    "        \"train_accuracy\": in_sample_accuracy,\n",
    "        \"validate_accuracy\": out_of_sample_accuracy\n",
    "    }\n",
    "    \n",
    "    metrics.append(output)\n",
    "    \n",
    "df = pd.DataFrame(metrics)\n",
    "df[\"difference\"] = df.train_accuracy - df.validate_accuracy\n",
    "df"
   ]
  },
  {
   "cell_type": "code",
   "execution_count": 35,
   "id": "40af28ea-98a3-4c4b-a740-1ff1810d26d9",
   "metadata": {
    "tags": []
   },
   "outputs": [
    {
     "data": {
      "image/png": "[encoded data removed]",
      "text/plain": [
       "<Figure size 1200x600 with 1 Axes>"
      ]
     },
     "metadata": {},
     "output_type": "display_data"
    }
   ],
   "source": [
    "plt.figure(figsize=(12,6))\n",
    "plt.plot(df.max_depth, df.train_accuracy, label='train', marker='o')\n",
    "plt.plot(df.max_depth, df.validate_accuracy, label='validate', marker='o')\n",
    "plt.xlabel('max depth')\n",
    "plt.ylabel('accuracy')\n",
    "plt.title('how does the accuracy change with max depth on train and validate?')\n",
    "plt.legend()\n",
    "plt.show()"
   ]
  },
  {
   "cell_type": "markdown",
   "id": "5eb057ca-c8b4-4db4-9d0f-46e77272d8e9",
   "metadata": {},
   "source": [
    "-------------------------------------------------------------------"
   ]
  },
  {
   "cell_type": "markdown",
   "id": "924da1fa-1a34-4395-8dda-bee71456be7c",
   "metadata": {},
   "source": [
    "# Question 1:\n",
    "Work through the telco dataset using these same exercises"
   ]
  },
  {
   "cell_type": "code",
   "execution_count": null,
   "id": "f7d5d991-0c56-4591-8f21-6674beacfc4c",
   "metadata": {},
   "outputs": [],
   "source": []
  }
 ],
 "metadata": {
  "kernelspec": {
   "display_name": "Python 3 (ipykernel)",
   "language": "python",
   "name": "python3"
  },
  "language_info": {
   "codemirror_mode": {
    "name": "ipython",
    "version": 3
   },
   "file_extension": ".py",
   "mimetype": "text/x-python",
   "name": "python",
   "nbconvert_exporter": "python",
   "pygments_lexer": "ipython3",
   "version": "3.11.4"
  }
 },
 "nbformat": 4,
 "nbformat_minor": 5
}
